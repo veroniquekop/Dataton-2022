{
  "nbformat": 4,
  "nbformat_minor": 0,
  "metadata": {
    "colab": {
      "provenance": [],
      "authorship_tag": "ABX9TyM+uoXeRdr7+CgvQWcr0RNx",
      "include_colab_link": true
    },
    "kernelspec": {
      "name": "python3",
      "display_name": "Python 3"
    },
    "language_info": {
      "name": "python"
    }
  },
  "cells": [
    {
      "cell_type": "markdown",
      "metadata": {
        "id": "view-in-github",
        "colab_type": "text"
      },
      "source": [
        "<a href=\"https://colab.research.google.com/github/veroniquekop/Dataton-2022/blob/main/Code_mapping_tissue.ipynb\" target=\"_parent\"><img src=\"https://colab.research.google.com/assets/colab-badge.svg\" alt=\"Open In Colab\"/></a>"
      ]
    },
    {
      "cell_type": "code",
      "source": [
        "import csv\n",
        "import requests\n",
        "import time\n",
        "\n",
        "\n",
        "def get_mapping_from_file(tissue_code):\n",
        "    with open('code_mapping.csv', 'r') as file:\n",
        "        reader = csv.reader(file)\n",
        "        for row in reader:\n",
        "            if row[2].lower() == tissue_code.lower():\n",
        "                return row[1]\n",
        "    return None\n",
        "\n",
        "\n",
        "def get_mapping_from_api(tissue_code):\n",
        "    response = requests.get(f\"http://oncotree.mskcc.org/api/tumorTypes/search/code/{tissue_code}?exactMatch=true&levels=2%2C3%2C4%2C5\")\n",
        "    json_data = response.json()\n",
        "    \n",
        "    if json_data and isinstance(json_data, list) and len(json_data) > 0:\n",
        "        tissue = json_data[0].get(\"tissue\")\n",
        "        \n",
        "        time.sleep(2)\n",
        "        \n",
        "        response = requests.get(f\"http://oncotree.mskcc.org/api/tumorTypes/search/name/{tissue}?exactMatch=true&levels=1\")\n",
        "        json_data = response.json()\n",
        "\n",
        "        if tissue in special_cases:\n",
        "            mapping = get_mapping_from_file(special_cases[tissue])\n",
        "            if mapping:\n",
        "                return mapping\n",
        "        \n",
        "        if json_data and isinstance(json_data, list) and len(json_data) > 0:\n",
        "            code_mapping = json_data[0].get(\"code\")\n",
        "            mapping = get_mapping_from_file(code_mapping)\n",
        "            if mapping:\n",
        "                return mapping\n",
        "    \n",
        "    return None\n",
        "\n",
        "\n",
        "def get_mapping(code):\n",
        "    mapping = get_mapping_from_file(code)\n",
        "    \n",
        "    if mapping:\n",
        "        return mapping\n",
        "    \n",
        "    mapping = get_mapping_from_api(code)\n",
        "    \n",
        "    if mapping:\n",
        "        return mapping\n",
        "    \n",
        "    return None\n",
        "\n",
        "\n",
        "code = input(\"Введите код опухоли: \")\n",
        "special_cases = {\n",
        "    \"Esophagus/Stomach\": \"STOMACH\",\n",
        "    \"Bladder/Urinary Tract\": \"BLADDER\",\n",
        "    \"Ovary/Fallopian Tube\": \"OVARY\",\n",
        "    \"Vulva/Vagina\": \"VULVA\"\n",
        "   \n",
        "}\n",
        "\n",
        "mapping = get_mapping(code)\n",
        "\n",
        "if mapping:\n",
        "    print(mapping)\n",
        "else:\n",
        "    print(\"Мэппинг не найден.\")\n"
      ],
      "metadata": {
        "colab": {
          "base_uri": "https://localhost:8080/"
        },
        "id": "5WBIhFApna1i",
        "outputId": "ba892521-bdb9-4fae-d578-d398400196ce"
      },
      "execution_count": 2,
      "outputs": [
        {
          "output_type": "stream",
          "name": "stdout",
          "text": [
            "Введите код опухоли: gb\n",
            "Мэппинг не найден.\n"
          ]
        }
      ]
    }
  ]
}